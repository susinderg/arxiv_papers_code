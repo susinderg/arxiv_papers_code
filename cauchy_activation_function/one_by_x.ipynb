{
 "cells": [
  {
   "cell_type": "code",
   "execution_count": 13,
   "id": "7f73216e-709f-4ebd-a994-a524ad3c4360",
   "metadata": {},
   "outputs": [],
   "source": [
    "import torch\n",
    "import numpy as np\n",
    "from torch import nn, optim\n",
    "import matplotlib.pyplot as plt\n",
    "from torch.utils.data import Dataset\n",
    "from torch.utils.data import DataLoader"
   ]
  },
  {
   "cell_type": "code",
   "execution_count": 14,
   "id": "134a99ef-264f-49aa-82d7-b5541f88cae7",
   "metadata": {},
   "outputs": [],
   "source": [
    "class CauchyActivation(nn.Module):\n",
    "  def __init__(self):\n",
    "    super().__init__()\n",
    "\n",
    "    # Initializing λ1, λ2, d as trainable parameters\n",
    "    self.lambda1 = nn.Parameter(torch.tensor(1.0))\n",
    "    self.lambda2 = nn.Parameter(torch.tensor(1.0))\n",
    "    self.d = nn.Parameter(torch.tensor(1.0))\n",
    "\n",
    "  def forward(self, x):\n",
    "    x2_d2 = x ** 2 + self.d ** 2\n",
    "    return self.lambda1 * x / x2_d2 + self.lambda2 / x2_d2"
   ]
  },
  {
   "cell_type": "code",
   "execution_count": 20,
   "id": "571f47b8-5d14-4bd8-a30a-6b5c4899ee43",
   "metadata": {},
   "outputs": [],
   "source": [
    "class MyDataset(Dataset):\n",
    "    def __init__(self, x):\n",
    "        self.x = x\n",
    "        self.y = x/(x**2+9)\n",
    "        \n",
    "    def __len__(self):\n",
    "        return len(self.x)\n",
    "\n",
    "    def __getitem__(self, idx):\n",
    "        return self.x[idx], self.y[idx]"
   ]
  },
  {
   "cell_type": "code",
   "execution_count": 21,
   "id": "23ef569a-e2c7-4c84-b31e-e5f2177de7ee",
   "metadata": {},
   "outputs": [],
   "source": [
    "x = torch.arange(-100, 100, 0.001)\n",
    "dataset = MyDataset(x)\n",
    "train_data, test_data = torch.utils.data.random_split(dataset, [0.8, 0.2])\n",
    "train_dataloader = DataLoader(\n",
    "            train_data,\n",
    "            batch_size=64,\n",
    "            shuffle=True,\n",
    ")\n",
    "test_dataloader = DataLoader(\n",
    "            test_data,\n",
    "            batch_size=64,\n",
    "            shuffle=True,\n",
    ")"
   ]
  },
  {
   "cell_type": "code",
   "execution_count": 22,
   "id": "f0c605e3-c2dd-4e9d-bc83-b24565b9f7c5",
   "metadata": {},
   "outputs": [],
   "source": [
    "model = CauchyActivation()\n",
    "loss_fn = nn.MSELoss()\n",
    "optimizer = torch.optim.Adam(model.parameters(), lr=0.001)"
   ]
  },
  {
   "cell_type": "code",
   "execution_count": 23,
   "id": "c907ffcc-281e-4da0-b689-b6dc4cd79b11",
   "metadata": {},
   "outputs": [
    {
     "name": "stdout",
     "output_type": "stream",
     "text": [
      "λ1 = 1.0 λ2 = 1.0 d = 1.0\n",
      "Epoch 1\n",
      "....\n",
      "loss:0.009494, step:    1\n",
      "\n",
      "loss:0.001909, step: 1001\n",
      "\n",
      "loss:0.000688, step: 2001\n",
      "\n",
      "λ1 = 0.6608152389526367 λ2 = 0.15149952471256256 d = 1.5314451456069946\n",
      "Epoch 2\n",
      "....\n",
      "loss:0.000174, step:    1\n",
      "\n",
      "loss:0.000142, step: 1001\n",
      "\n",
      "loss:0.000128, step: 2001\n",
      "\n",
      "λ1 = 0.7572121620178223 λ2 = 0.004013596568256617 d = 1.8414981365203857\n",
      "Epoch 3\n",
      "....\n",
      "loss:0.000148, step:    1\n",
      "\n",
      "loss:0.000057, step: 1001\n",
      "\n",
      "loss:0.000038, step: 2001\n",
      "\n",
      "λ1 = 0.870467483997345 λ2 = 6.91399909555912e-05 d = 2.35874080657959\n",
      "Epoch 4\n",
      "....\n",
      "loss:0.000055, step:    1\n",
      "\n",
      "loss:0.000016, step: 1001\n",
      "\n",
      "loss:0.000005, step: 2001\n",
      "\n",
      "λ1 = 0.9711529612541199 λ2 = 0.0018921648152172565 d = 2.842089891433716\n",
      "Epoch 5\n",
      "....\n",
      "loss:0.000002, step:    1\n",
      "\n",
      "loss:0.000000, step: 1001\n",
      "\n",
      "loss:0.000000, step: 2001\n",
      "\n",
      "λ1 = 0.9995215535163879 λ2 = -0.00010395119898021221 d = 2.9973886013031006\n",
      "Epoch 6\n",
      "....\n",
      "loss:0.000000, step:    1\n",
      "\n",
      "loss:0.000000, step: 1001\n",
      "\n",
      "loss:0.000000, step: 2001\n",
      "\n",
      "λ1 = 0.9999980926513672 λ2 = 8.297581644001184e-08 d = 2.999990224838257\n",
      "Epoch 7\n",
      "....\n",
      "loss:0.000000, step:    1\n",
      "\n",
      "loss:0.000000, step: 1001\n",
      "\n",
      "loss:0.000000, step: 2001\n",
      "\n",
      "λ1 = 0.9999992847442627 λ2 = -2.268597221188884e-08 d = 2.999997615814209\n",
      "Epoch 8\n",
      "....\n",
      "loss:0.000000, step:    1\n",
      "\n",
      "loss:0.000000, step: 1001\n",
      "\n",
      "loss:0.000000, step: 2001\n",
      "\n",
      "λ1 = 0.9999999403953552 λ2 = -1.4386360547291588e-08 d = 2.999999523162842\n",
      "Epoch 9\n",
      "....\n",
      "loss:0.000000, step:    1\n",
      "\n",
      "loss:0.000000, step: 1001\n",
      "\n",
      "loss:0.000000, step: 2001\n",
      "\n",
      "λ1 = 1.0 λ2 = -2.8308735564031018e-12 d = 3.0\n",
      "Epoch 10\n",
      "....\n",
      "loss:0.000000, step:    1\n",
      "\n",
      "loss:0.000000, step: 1001\n",
      "\n",
      "loss:0.000000, step: 2001\n",
      "\n",
      "λ1 = 1.0 λ2 = 1.5674928802861254e-12 d = 3.0\n"
     ]
    }
   ],
   "source": [
    "epochs=10\n",
    "print(\"λ1 = {} λ2 = {} d = {}\".format(model.lambda1.item(), model.lambda2.item(), model.d.item()))\n",
    "for t in range(epochs):\n",
    "    print(f\"Epoch {t+1}\\n....\")\n",
    "    model.train()\n",
    "    for step, (data,label) in enumerate(train_dataloader):\n",
    "        optimizer.zero_grad()\n",
    "        output = model(data)\n",
    "        loss = loss_fn(output, label)\n",
    "        loss.backward()\n",
    "        optimizer.step()\n",
    "        if step % 1000 ==0:\n",
    "            loss, current = loss.item(), step+1\n",
    "            print(f\"loss:{loss:>7f}, step:{current:>5d}\\n\")\n",
    "    print(\"λ1 = {} λ2 = {} d = {}\".format(model.lambda1.item(), model.lambda2.item(), model.d.item()))"
   ]
  },
  {
   "cell_type": "code",
   "execution_count": null,
   "id": "60cf69c7-fa16-47ac-948f-6f678d20d95f",
   "metadata": {},
   "outputs": [
    {
     "name": "stdout",
     "output_type": "stream",
     "text": [
      "torch.Size([200000]) torch.Size([200000])\n"
     ]
    },
    {
     "data": {
      "text/plain": [
       "[<matplotlib.lines.Line2D at 0x7f0584bcde40>]"
      ]
     },
     "execution_count": 25,
     "metadata": {},
     "output_type": "execute_result"
    }
   ],
   "source": [
    "model.eval()\n",
    "output=model(x)\n",
    "print(x.shape, output.shape)\n",
    "plt.plot(x.numpy(),output.detach().numpy(),'-kx')"
   ]
  },
  {
   "cell_type": "code",
   "execution_count": null,
   "id": "9aaa4eee-7367-4d30-be42-0b4e9da0c6e8",
   "metadata": {},
   "outputs": [],
   "source": []
  },
  {
   "cell_type": "code",
   "execution_count": null,
   "id": "9d87a665-d140-4432-84dd-846a5562bdad",
   "metadata": {},
   "outputs": [],
   "source": []
  }
 ],
 "metadata": {
  "kernelspec": {
   "display_name": "Python 3",
   "language": "python",
   "name": "python3"
  },
  "language_info": {
   "codemirror_mode": {
    "name": "ipython",
    "version": 3
   },
   "file_extension": ".py",
   "mimetype": "text/x-python",
   "name": "python",
   "nbconvert_exporter": "python",
   "pygments_lexer": "ipython3",
   "version": "3.10.10"
  }
 },
 "nbformat": 4,
 "nbformat_minor": 5
}
